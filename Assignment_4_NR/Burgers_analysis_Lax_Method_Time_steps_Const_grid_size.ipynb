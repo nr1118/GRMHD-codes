{
 "cells": [
  {
   "cell_type": "markdown",
   "id": "3d59f9b6",
   "metadata": {},
   "source": [
    "## This is a simple code that animates the time evolution of U with a grid size of 100 on the range from [0, 2*pi]. Where dt = dx/4."
   ]
  },
  {
   "cell_type": "code",
   "execution_count": null,
   "id": "3262d466",
   "metadata": {},
   "outputs": [],
   "source": [
    "%pylab inline\n",
    "\n",
    "from matplotlib.animation import FuncAnimation\n",
    "import matplotlib.animation as animation"
   ]
  },
  {
   "cell_type": "code",
   "execution_count": 2,
   "id": "578b8d0b",
   "metadata": {},
   "outputs": [],
   "source": [
    "X = np.loadtxt('Burgers_Lax_diff.txt')\n"
   ]
  },
  {
   "cell_type": "code",
   "execution_count": 3,
   "id": "f9f2bb38",
   "metadata": {},
   "outputs": [],
   "source": [
    "x = np.linspace(0,2*pi,100)\n",
    "t = 2*np.pi\n",
    "U = np.array([X[0:100],X[100:200],X[200:300],X[300:400],X[400:500],X[500:600],X[600:700]\n",
    "              ,X[700:800],X[800:900],X[900:1000],X[1000:1100]])"
   ]
  },
  {
   "cell_type": "code",
   "execution_count": 12,
   "id": "37239fff",
   "metadata": {},
   "outputs": [
    {
     "name": "stderr",
     "output_type": "stream",
     "text": [
      "MovieWriter ffmpeg unavailable; using Pillow instead.\n"
     ]
    },
    {
     "data": {
      "image/png": "[encoded data removed]",
      "text/plain": [
       "<Figure size 432x288 with 1 Axes>"
      ]
     },
     "metadata": {
      "needs_background": "light"
     },
     "output_type": "display_data"
    }
   ],
   "source": [
    "fig, ax = plt.subplots()\n",
    "\n",
    "#x = np.arange(0, 2*np.pi, 0.01)\n",
    "line, = ax.plot(x, U[0])\n",
    "\n",
    "\n",
    "def animate(i):\n",
    "    line.set_ydata(U[i])  # update the data.\n",
    "    return line,\n",
    "\n",
    "\n",
    "ani = animation.FuncAnimation(\n",
    "    fig, animate, interval=1000, blit=True, save_count=10) #save count should equal len(U)-1 since already used U[0]\n",
    "\n",
    "# To save the animation, use e.g.\n",
    "#\n",
    "# ani.save(\"movie.mp4\")\n",
    "#\n",
    "# or\n",
    "#\n",
    "# writer = animation.FFMpegWriter(\n",
    "#     fps=15, metadata=dict(artist='Me'), bitrate=1800)\n",
    "\n",
    "ani.save('Shock_movie.gif')\n",
    "\n",
    "plt.show()"
   ]
  },
  {
   "cell_type": "code",
   "execution_count": null,
   "id": "d6892f98",
   "metadata": {},
   "outputs": [],
   "source": []
  }
 ],
 "metadata": {
  "kernelspec": {
   "display_name": "Python 3",
   "language": "python",
   "name": "python3"
  },
  "language_info": {
   "codemirror_mode": {
    "name": "ipython",
    "version": 3
   },
   "file_extension": ".py",
   "mimetype": "text/x-python",
   "name": "python",
   "nbconvert_exporter": "python",
   "pygments_lexer": "ipython3",
   "version": "3.8.8"
  }
 },
 "nbformat": 4,
 "nbformat_minor": 5
}
